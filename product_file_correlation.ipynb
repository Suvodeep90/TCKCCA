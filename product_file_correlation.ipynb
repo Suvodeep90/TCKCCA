{
 "cells": [
  {
   "cell_type": "code",
   "execution_count": 17,
   "metadata": {},
   "outputs": [],
   "source": [
    "import pandas as pd\n",
    "import numpy as np\n",
    "import math\n",
    "import pickle\n",
    "\n",
    "from scipy import stats\n",
    "import scipy.io\n",
    "from scipy.spatial.distance import pdist\n",
    "from scipy.linalg import cholesky\n",
    "from scipy.io import loadmat\n",
    "\n",
    "from sklearn.linear_model import LogisticRegression\n",
    "from sklearn.metrics import classification_report\n",
    "from sklearn.naive_bayes import GaussianNB\n",
    "from sklearn.svm import SVC\n",
    "from sklearn.metrics import classification_report,roc_auc_score,recall_score,precision_score\n",
    "from sklearn.model_selection import train_test_split\n",
    "from sklearn.preprocessing import MinMaxScaler\n",
    "from sklearn.ensemble import RandomForestClassifier\n",
    "from sklearn.decomposition import PCA\n",
    "\n",
    "from src import SMOTE\n",
    "from src import CFS\n",
    "from src import metrices_V2 as metrices\n",
    "\n",
    "import platform\n",
    "from os import listdir\n",
    "from os.path import isfile, join\n",
    "from glob import glob\n",
    "from pathlib import Path\n",
    "import sys\n",
    "import os\n",
    "import copy\n",
    "import traceback\n",
    "from pathlib import Path\n",
    "\n",
    "import matplotlib.pyplot as plt"
   ]
  },
  {
   "cell_type": "markdown",
   "metadata": {},
   "source": [
    "# Data Load and other util function"
   ]
  },
  {
   "cell_type": "code",
   "execution_count": 2,
   "metadata": {},
   "outputs": [],
   "source": [
    "def load_data(project):\n",
    "    understand_path = 'data/understand_files_all/' + project + '_understand.csv'\n",
    "    understand_df = pd.read_csv(understand_path)\n",
    "    understand_df = understand_df.dropna(axis = 1,how='all')\n",
    "    cols_list = understand_df.columns.values.tolist()\n",
    "#     print(cols_list)\n",
    "    for item in ['Kind', 'Name','commit_hash', 'Bugs']:\n",
    "        if item in cols_list:\n",
    "            cols_list.remove(item)\n",
    "            cols_list.insert(0,item)\n",
    "    understand_df = understand_df[cols_list]\n",
    "    cols = understand_df.columns.tolist()\n",
    "\n",
    "#     understand_df = understand_df.drop_duplicates(cols[4:len(cols)])\n",
    "    df = understand_df\n",
    "    for item in ['Kind','commit_hash']:\n",
    "        if item in cols:\n",
    "            df = df.drop(labels = [item],axis=1)\n",
    "    df.dropna(inplace=True)\n",
    "    return df\n",
    "\n",
    "def apply_smote(df):\n",
    "    cols = df.columns\n",
    "    smt = SMOTE.smote(df)\n",
    "    df = smt.run()\n",
    "    df.columns = cols\n",
    "    return df\n",
    "\n",
    "def apply_cfs(df):\n",
    "        y = df.Bugs.values\n",
    "        X = df.drop(labels = ['Bugs'],axis = 1)\n",
    "        X = X.values\n",
    "        selected_cols = CFS.cfs(X,y)\n",
    "        cols = df.columns[[selected_cols]].tolist()\n",
    "        cols.append('Bugs')\n",
    "        return df[cols],cols\n",
    "\n",
    "def get_spearmanr(df):\n",
    "    df = df.drop('Bugs',axis = 1)\n",
    "    file_corr = []\n",
    "    for name in df.Name.unique():\n",
    "        sub_df = df[df['Name'] == name]\n",
    "        if sub_df.shape[0] < 2:\n",
    "            continue\n",
    "        sub_df = sub_df.drop('Name',axis = 1)\n",
    "        rho, pval = stats.spearmanr(sub_df.values,sub_df.values,axis = 1)\n",
    "        file_corr.append(np.median(rho[:,:int(len(rho)/2)]))\n",
    "    return file_corr"
   ]
  },
  {
   "cell_type": "markdown",
   "metadata": {},
   "source": [
    "# Getting List of projects"
   ]
  },
  {
   "cell_type": "code",
   "execution_count": 3,
   "metadata": {},
   "outputs": [],
   "source": [
    "proj_df = pd.read_csv('projects.csv')\n",
    "projects = proj_df.repo_name.tolist()"
   ]
  },
  {
   "cell_type": "markdown",
   "metadata": {},
   "source": [
    "# Run the experiment"
   ]
  },
  {
   "cell_type": "code",
   "execution_count": 4,
   "metadata": {},
   "outputs": [
    {
     "name": "stdout",
     "output_type": "stream",
     "text": [
      "+++++++++++++++++   org.alloytools.alloy  +++++++++++++++++\n",
      "0.9952894018179659\n",
      "+++++++++++++++++   qpython  +++++++++++++++++\n",
      "1.0\n",
      "+++++++++++++++++   friendlychat-android  +++++++++++++++++\n",
      "0.9722682462009827\n",
      "+++++++++++++++++   paho.mqtt.android  +++++++++++++++++\n",
      "1.0\n",
      "+++++++++++++++++   paho.mqtt.java  +++++++++++++++++\n",
      "1.0\n",
      "+++++++++++++++++   android-docs-samples  +++++++++++++++++\n",
      "1.0\n",
      "+++++++++++++++++   Toasty  +++++++++++++++++\n",
      "0.9999999999999999\n",
      "+++++++++++++++++   android-mvvm-architecture  +++++++++++++++++\n",
      "1.0\n",
      "+++++++++++++++++   recipes-rss  +++++++++++++++++\n",
      "1.0\n",
      "+++++++++++++++++   HoloGraphLibrary  +++++++++++++++++\n",
      "1.0\n"
     ]
    }
   ],
   "source": [
    "project_corr = {}\n",
    "for project in projects:\n",
    "    try:\n",
    "        if project == '.DS_Store':\n",
    "            continue\n",
    "#         if project != 'Pokemap':\n",
    "#             continue\n",
    "        print(\"+++++++++++++++++   \"  + project + \"  +++++++++++++++++\")\n",
    "        df = load_data(project)\n",
    "        corr = get_spearmanr(df)\n",
    "        project_corr[project] = corr\n",
    "        print(np.median(corr))\n",
    "    except Exception as e:\n",
    "        print(e)\n",
    "        continue\n",
    "with open('results/Performance/product_corr.pkl', 'wb') as handle:\n",
    "    pickle.dump(project_corr, handle, protocol=pickle.HIGHEST_PROTOCOL)"
   ]
  },
  {
   "cell_type": "code",
   "execution_count": 16,
   "metadata": {},
   "outputs": [
    {
     "data": {
      "image/png": "[encoded data removed]",
      "text/plain": [
       "<Figure size 432x288 with 1 Axes>"
      ]
     },
     "metadata": {
      "needs_background": "light"
     },
     "output_type": "display_data"
    }
   ],
   "source": [
    "# flat_list = [item for sublist in list(project_corr.values()) for item in sublist]\n",
    "# fig = plt.figure()\n",
    "# ax = fig.add_axes([0,0,1,1])\n",
    "# bp = ax.violinplot(flat_list)"
   ]
  },
  {
   "cell_type": "code",
   "execution_count": null,
   "metadata": {},
   "outputs": [],
   "source": []
  },
  {
   "cell_type": "code",
   "execution_count": null,
   "metadata": {},
   "outputs": [],
   "source": []
  }
 ],
 "metadata": {
  "kernelspec": {
   "display_name": "Python 3",
   "language": "python",
   "name": "python3"
  },
  "language_info": {
   "codemirror_mode": {
    "name": "ipython",
    "version": 3
   },
   "file_extension": ".py",
   "mimetype": "text/x-python",
   "name": "python",
   "nbconvert_exporter": "python",
   "pygments_lexer": "ipython3",
   "version": "3.7.3"
  }
 },
 "nbformat": 4,
 "nbformat_minor": 2
}
