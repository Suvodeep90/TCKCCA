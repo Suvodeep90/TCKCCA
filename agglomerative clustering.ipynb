{
 "cells": [
  {
   "cell_type": "code",
   "execution_count": null,
   "metadata": {},
   "outputs": [],
   "source": [
    "import pandas as pd\n",
    "import numpy as np\n",
    "from scipy import stats\n",
    "import scipy.io\n",
    "from scipy.spatial.distance import pdist\n",
    "from scipy.linalg import cholesky\n",
    "import matlab.engine as engi\n",
    "import matlab as mat\n",
    "import math\n",
    "from sklearn.linear_model import LogisticRegression\n",
    "from sklearn.metrics import classification_report\n",
    "from sklearn.decomposition import PCA\n",
    "from scipy.io import loadmat\n",
    "import matplotlib.pyplot as plt\n",
    "from sklearn.metrics import pairwise_distances\n",
    "from sys import stdout\n",
    "from sklearn.metrics import pairwise_kernels\n",
    "from sklearn.cluster import DBSCAN\n",
    "\n",
    "import platform\n",
    "from os import listdir\n",
    "from os.path import isfile, join\n",
    "from glob import glob\n",
    "from pathlib import Path\n",
    "import sys\n",
    "import os\n",
    "import copy\n",
    "import traceback\n",
    "from pathlib import Path\n",
    "\n",
    "eng = engi.start_matlab()\n",
    "eng.addpath(r'matlab_CTKCCA/',nargout=0)"
   ]
  },
  {
   "cell_type": "code",
   "execution_count": null,
   "metadata": {},
   "outputs": [],
   "source": [
    "data_source = 'data/All'\n",
    "if platform.system() == 'Darwin' or platform.system() == 'Linux':\n",
    "    _dir = data_source + '/'\n",
    "else:\n",
    "    _dir = data_source + '\\\\'\n",
    "\n",
    "datasets = [(join(_dir, f)) for f in listdir(_dir) if  not Path(join(_dir, f)).is_dir()]"
   ]
  },
  {
   "cell_type": "code",
   "execution_count": null,
   "metadata": {},
   "outputs": [],
   "source": [
    "def load_data(path):\n",
    "    df = pd.read_csv(path)\n",
    "    print(path)\n",
    "    df_columns = df.columns\n",
    "    _temp = []\n",
    "    for col in df_columns:\n",
    "        col = col.replace('$','')\n",
    "        col = col.replace('>','')\n",
    "        col = col.replace('<','')\n",
    "        _temp.append(col)\n",
    "    df.columns = _temp\n",
    "    defect_values = df[df.columns[-1]].unique()\n",
    "    d = {}\n",
    "    if 'F' in defect_values:\n",
    "        d = {'T': True, 'F': False}\n",
    "        df[df.columns[-1]] = df[df.columns[-1]].map(d)\n",
    "    return df\n",
    "\n",
    "def transform_data(source_df,target_df):\n",
    "    mat_source_df = mat.double(source_df.values.T.tolist())\n",
    "    mat_target_df = mat.double(target_df.values.T.tolist())\n",
    "    X = eng.CTKCCA(mat_source_df,mat_target_df,nargout=4)\n",
    "    train_X,train_y = np.array(X[0]),np.array(X[1]).tolist()[0]\n",
    "    test_X,test_y = np.array(X[2]),np.array(X[3]).tolist()[0]\n",
    "    return train_X,train_y,test_X,test_y"
   ]
  },
  {
   "cell_type": "code",
   "execution_count": null,
   "metadata": {},
   "outputs": [],
   "source": [
    "results_dist = {}\n",
    "results_p = {}\n",
    "results = []\n",
    "for s_project in datasets:\n",
    "    results_dist[s_project] = {}\n",
    "    results_p[s_project] = {}\n",
    "    for d_project in datasets:\n",
    "        if s_project == d_project:\n",
    "            continue\n",
    "        source_df = load_data(s_project)\n",
    "        target_df = load_data(d_project)\n",
    "        if source_df.shape[1] != target_df.shape[1]:\n",
    "            continue\n",
    "        source_df = source_df[source_df.columns[:len(source_df.columns)-1]]\n",
    "        target_df = target_df[target_df.columns[:len(target_df.columns)-1]]\n",
    "        dist = pairwise_distances(source_df,target_df,metric='cosine')\n",
    "        x = []\n",
    "        for _dist in dist:\n",
    "            x.append(np.median(_dist))\n",
    "        x = np.median(x)\n",
    "        results_dist[s_project][d_project] = x\n",
    "df = pd.DataFrame.from_dict(results_dist,orient='index')"
   ]
  },
  {
   "cell_type": "code",
   "execution_count": null,
   "metadata": {},
   "outputs": [],
   "source": [
    "results_dist = pd.read_csv('result/MMD_full.csv',index_col=0)\n",
    "df_MMD_updated = results_dist.abs()\n",
    "df_MMD_updated.values[[np.arange(df_MMD_updated.shape[0])]*2] = 0"
   ]
  },
  {
   "cell_type": "code",
   "execution_count": null,
   "metadata": {},
   "outputs": [],
   "source": [
    "from sklearn.cluster import DBSCAN\n",
    "clustering = DBSCAN(eps=0.2, min_samples=5,metric='precomputed').fit(df_MMD_updated)\n",
    "clustering.labels_"
   ]
  },
  {
   "cell_type": "code",
   "execution_count": null,
   "metadata": {},
   "outputs": [],
   "source": [
    "from sklearn.cluster import AgglomerativeClustering\n",
    "clustering = AgglomerativeClustering(n_clusters=None,affinity='precomputed',\n",
    "                                     distance_threshold=0.6,linkage='average').fit(df_MMD_updated)\n",
    "clustering.labels_"
   ]
  },
  {
   "cell_type": "code",
   "execution_count": null,
   "metadata": {},
   "outputs": [],
   "source": [
    "from sklearn.cluster import SpectralClustering\n",
    "clustering = SpectralClustering(n_clusters=3,affinity='precomputed').fit(df_MMD_updated)\n",
    "clustering.labels_"
   ]
  },
  {
   "cell_type": "code",
   "execution_count": null,
   "metadata": {},
   "outputs": [],
   "source": [
    "clusters = zip(df_MMD_updated.index.tolist(),clustering.labels_.tolist())"
   ]
  },
  {
   "cell_type": "code",
   "execution_count": null,
   "metadata": {},
   "outputs": [],
   "source": [
    "result = {}\n",
    "for cluster in clusters:\n",
    "    if cluster[1] not in result.keys():\n",
    "        result[cluster[1]] = []\n",
    "    result[cluster[1]].append(cluster[0])"
   ]
  },
  {
   "cell_type": "code",
   "execution_count": null,
   "metadata": {},
   "outputs": [],
   "source": []
  },
  {
   "cell_type": "code",
   "execution_count": null,
   "metadata": {},
   "outputs": [],
   "source": []
  }
 ],
 "metadata": {
  "kernelspec": {
   "display_name": "Python 3",
   "language": "python",
   "name": "python3"
  },
  "language_info": {
   "codemirror_mode": {
    "name": "ipython",
    "version": 3
   },
   "file_extension": ".py",
   "mimetype": "text/x-python",
   "name": "python",
   "nbconvert_exporter": "python",
   "pygments_lexer": "ipython3",
   "version": "3.7.3"
  }
 },
 "nbformat": 4,
 "nbformat_minor": 2
}
